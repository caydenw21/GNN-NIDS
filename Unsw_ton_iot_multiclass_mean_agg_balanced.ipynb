{
 "cells": [
  {
   "cell_type": "code",
   "execution_count": 1,
   "metadata": {
    "colab": {
     "base_uri": "https://localhost:8080/"
    },
    "id": "mS0bWISTqhMI",
    "outputId": "c67bb709-77f1-45f5-976b-932f976e3b24"
   },
   "outputs": [],
   "source": [
    "import dgl.nn as dglnn\n",
    "import dgl\n",
    "import torch_geometric\n",
    "from dgl import from_networkx\n",
    "import torch.nn as nn\n",
    "import torch as th\n",
    "import torch.nn.functional as F\n",
    "import dgl.function as fn\n",
    "import networkx as nx\n",
    "import pandas as pd\n",
    "import socket\n",
    "import struct\n",
    "import random\n",
    "from sklearn.preprocessing import LabelEncoder\n",
    "from sklearn.preprocessing import StandardScaler\n",
    "from sklearn.model_selection import train_test_split\n",
    "import category_encoders as ce\n",
    "from sklearn.decomposition import PCA\n",
    "import seaborn as sns\n",
    "import matplotlib.pyplot as plt\n",
    "import numpy as np"
   ]
  },
  {
   "cell_type": "code",
   "execution_count": 2,
   "metadata": {
    "id": "ki0watiErdJp"
   },
   "outputs": [],
   "source": [
    "data = pd.read_csv('NF-ToN-IoT.csv')"
   ]
  },
  {
   "cell_type": "code",
   "execution_count": 3,
   "metadata": {
    "colab": {
     "base_uri": "https://localhost:8080/",
     "height": 439
    },
    "id": "0JmyVopVrqWQ",
    "outputId": "b53ec05a-1324-45db-aba6-94cc7fecea40"
   },
   "outputs": [],
   "source": [
    "#data = data.sample(frac=.5)"
   ]
  },
  {
   "cell_type": "code",
   "execution_count": 4,
   "metadata": {},
   "outputs": [],
   "source": [
    "data = data[~data['Attack'].isin(['backdoor', 'dos', 'mitm', 'scanning', 'ransomware', 'xss'])]"
   ]
  },
  {
   "cell_type": "code",
   "execution_count": 5,
   "metadata": {},
   "outputs": [],
   "source": [
    "from sklearn.utils import resample\n",
    "\n",
    "df = pd.DataFrame(data)\n",
    "\n",
    "# Group the DataFrame by 'Attack' column\n",
    "grouped = df.groupby('Attack')\n",
    "\n",
    "# Get the size of the smallest group\n",
    "min_group_size = grouped.size().min()\n",
    "\n",
    "# List to store the balanced DataFrames\n",
    "balanced_dfs = []\n",
    "\n",
    "# Undersample the majority class and append all groups to the list\n",
    "for attack_type, group_df in grouped:\n",
    "    if len(group_df) > min_group_size:\n",
    "        undersampled_df = resample(group_df, replace=False, n_samples=min_group_size, random_state=42)\n",
    "        balanced_dfs.append(undersampled_df)\n",
    "    else:\n",
    "        balanced_dfs.append(group_df)\n",
    "\n",
    "# Concatenate all balanced DataFrames\n",
    "balanced_df = pd.concat(balanced_dfs)\n",
    "\n",
    "data = balanced_df"
   ]
  },
  {
   "cell_type": "code",
   "execution_count": 6,
   "metadata": {
    "id": "PoVYaeFZtJBd"
   },
   "outputs": [],
   "source": [
    "data['IPV4_SRC_ADDR'] = data.IPV4_SRC_ADDR.apply(lambda x: socket.inet_ntoa(struct.pack('>I', random.randint(0xac100001, 0xac1f0001))))"
   ]
  },
  {
   "cell_type": "code",
   "execution_count": 7,
   "metadata": {
    "id": "zs4z58WCtu8k"
   },
   "outputs": [],
   "source": [
    "data['IPV4_SRC_ADDR'] = data.IPV4_SRC_ADDR.apply(str)\n",
    "data['L4_SRC_PORT'] = data.L4_SRC_PORT.apply(str)\n",
    "data['IPV4_DST_ADDR'] = data.IPV4_DST_ADDR.apply(str)\n",
    "data['L4_DST_PORT'] = data.L4_DST_PORT.apply(str)"
   ]
  },
  {
   "cell_type": "code",
   "execution_count": 8,
   "metadata": {
    "id": "9EEwTAK3tle9"
   },
   "outputs": [],
   "source": [
    "data['IPV4_SRC_ADDR'] = data['IPV4_SRC_ADDR'] + ':' + data['L4_SRC_PORT']\n",
    "data['IPV4_DST_ADDR'] = data['IPV4_DST_ADDR'] + ':' + data['L4_DST_PORT']"
   ]
  },
  {
   "cell_type": "code",
   "execution_count": 9,
   "metadata": {
    "id": "xbdaHUxOtzd-"
   },
   "outputs": [],
   "source": [
    "data.drop(columns=['L4_SRC_PORT','L4_DST_PORT'],inplace=True)"
   ]
  },
  {
   "cell_type": "code",
   "execution_count": null,
   "metadata": {
    "scrolled": false
   },
   "outputs": [],
   "source": [
    "# Create DataFrame\n",
    "df = pd.DataFrame(data)\n",
    "\n",
    "# Group by attack type\n",
    "grouped = df.groupby('Attack')\n",
    "\n",
    "# Plot for each feature\n",
    "features = ['FLOW_DURATION_MILLISECONDS', 'TCP_FLAGS', 'OUT_BYTES', 'IN_BYTES', 'IN_PKTS', 'OUT_PKTS']\n",
    "for feature in features:\n",
    "    plt.figure()\n",
    "    for attack, group in grouped:\n",
    "        plt.plot(group[feature], label=attack)\n",
    "    plt.xlabel('Index')\n",
    "    plt.ylabel(feature)\n",
    "    plt.title(f'{feature} for Each Attack Type')\n",
    "    plt.legend()\n",
    "    plt.show()"
   ]
  },
  {
   "cell_type": "code",
   "execution_count": 11,
   "metadata": {
    "colab": {
     "base_uri": "https://localhost:8080/",
     "height": 439
    },
    "id": "CN9rLLmr0eeI",
    "outputId": "9f79c3e6-b1f2-4af8-8fc2-3ba23dea1ee4"
   },
   "outputs": [
    {
     "data": {
      "text/html": [
       "<div>\n",
       "<style scoped>\n",
       "    .dataframe tbody tr th:only-of-type {\n",
       "        vertical-align: middle;\n",
       "    }\n",
       "\n",
       "    .dataframe tbody tr th {\n",
       "        vertical-align: top;\n",
       "    }\n",
       "\n",
       "    .dataframe thead th {\n",
       "        text-align: right;\n",
       "    }\n",
       "</style>\n",
       "<table border=\"1\" class=\"dataframe\">\n",
       "  <thead>\n",
       "    <tr style=\"text-align: right;\">\n",
       "      <th></th>\n",
       "      <th>IPV4_SRC_ADDR</th>\n",
       "      <th>IPV4_DST_ADDR</th>\n",
       "      <th>PROTOCOL</th>\n",
       "      <th>L7_PROTO</th>\n",
       "      <th>IN_BYTES</th>\n",
       "      <th>OUT_BYTES</th>\n",
       "      <th>IN_PKTS</th>\n",
       "      <th>OUT_PKTS</th>\n",
       "      <th>TCP_FLAGS</th>\n",
       "      <th>FLOW_DURATION_MILLISECONDS</th>\n",
       "      <th>Label</th>\n",
       "      <th>Attack</th>\n",
       "    </tr>\n",
       "  </thead>\n",
       "  <tbody>\n",
       "    <tr>\n",
       "      <th>811722</th>\n",
       "      <td>172.17.112.93:8080</td>\n",
       "      <td>192.168.1.193:49249</td>\n",
       "      <td>6</td>\n",
       "      <td>131.0</td>\n",
       "      <td>208</td>\n",
       "      <td>200</td>\n",
       "      <td>2</td>\n",
       "      <td>1</td>\n",
       "      <td>24</td>\n",
       "      <td>59</td>\n",
       "      <td>0</td>\n",
       "      <td>Benign</td>\n",
       "    </tr>\n",
       "    <tr>\n",
       "      <th>783287</th>\n",
       "      <td>172.27.43.105:44838</td>\n",
       "      <td>192.33.14.30:53</td>\n",
       "      <td>17</td>\n",
       "      <td>5.0</td>\n",
       "      <td>70</td>\n",
       "      <td>791</td>\n",
       "      <td>1</td>\n",
       "      <td>1</td>\n",
       "      <td>0</td>\n",
       "      <td>14</td>\n",
       "      <td>0</td>\n",
       "      <td>Benign</td>\n",
       "    </tr>\n",
       "    <tr>\n",
       "      <th>795907</th>\n",
       "      <td>172.21.101.196:51517</td>\n",
       "      <td>239.255.255.250:15600</td>\n",
       "      <td>17</td>\n",
       "      <td>0.0</td>\n",
       "      <td>126</td>\n",
       "      <td>0</td>\n",
       "      <td>2</td>\n",
       "      <td>0</td>\n",
       "      <td>0</td>\n",
       "      <td>3664929</td>\n",
       "      <td>0</td>\n",
       "      <td>Benign</td>\n",
       "    </tr>\n",
       "    <tr>\n",
       "      <th>876724</th>\n",
       "      <td>172.25.78.224:55334</td>\n",
       "      <td>224.0.0.252:5355</td>\n",
       "      <td>17</td>\n",
       "      <td>154.0</td>\n",
       "      <td>122</td>\n",
       "      <td>0</td>\n",
       "      <td>2</td>\n",
       "      <td>0</td>\n",
       "      <td>0</td>\n",
       "      <td>0</td>\n",
       "      <td>0</td>\n",
       "      <td>Benign</td>\n",
       "    </tr>\n",
       "    <tr>\n",
       "      <th>793121</th>\n",
       "      <td>172.28.234.249:10230</td>\n",
       "      <td>192.203.230.10:53</td>\n",
       "      <td>17</td>\n",
       "      <td>5.0</td>\n",
       "      <td>56</td>\n",
       "      <td>1125</td>\n",
       "      <td>1</td>\n",
       "      <td>1</td>\n",
       "      <td>0</td>\n",
       "      <td>19</td>\n",
       "      <td>0</td>\n",
       "      <td>Benign</td>\n",
       "    </tr>\n",
       "    <tr>\n",
       "      <th>...</th>\n",
       "      <td>...</td>\n",
       "      <td>...</td>\n",
       "      <td>...</td>\n",
       "      <td>...</td>\n",
       "      <td>...</td>\n",
       "      <td>...</td>\n",
       "      <td>...</td>\n",
       "      <td>...</td>\n",
       "      <td>...</td>\n",
       "      <td>...</td>\n",
       "      <td>...</td>\n",
       "      <td>...</td>\n",
       "    </tr>\n",
       "    <tr>\n",
       "      <th>1378908</th>\n",
       "      <td>172.23.170.51:55368</td>\n",
       "      <td>192.168.1.190:80</td>\n",
       "      <td>6</td>\n",
       "      <td>7.0</td>\n",
       "      <td>112</td>\n",
       "      <td>60</td>\n",
       "      <td>2</td>\n",
       "      <td>1</td>\n",
       "      <td>18</td>\n",
       "      <td>0</td>\n",
       "      <td>1</td>\n",
       "      <td>password</td>\n",
       "    </tr>\n",
       "    <tr>\n",
       "      <th>1378911</th>\n",
       "      <td>172.25.182.171:55370</td>\n",
       "      <td>192.168.1.190:80</td>\n",
       "      <td>6</td>\n",
       "      <td>7.0</td>\n",
       "      <td>112</td>\n",
       "      <td>60</td>\n",
       "      <td>2</td>\n",
       "      <td>1</td>\n",
       "      <td>18</td>\n",
       "      <td>0</td>\n",
       "      <td>1</td>\n",
       "      <td>password</td>\n",
       "    </tr>\n",
       "    <tr>\n",
       "      <th>1378914</th>\n",
       "      <td>172.23.152.112:55372</td>\n",
       "      <td>192.168.1.190:80</td>\n",
       "      <td>6</td>\n",
       "      <td>7.0</td>\n",
       "      <td>300</td>\n",
       "      <td>208</td>\n",
       "      <td>5</td>\n",
       "      <td>4</td>\n",
       "      <td>19</td>\n",
       "      <td>54351</td>\n",
       "      <td>1</td>\n",
       "      <td>password</td>\n",
       "    </tr>\n",
       "    <tr>\n",
       "      <th>1378926</th>\n",
       "      <td>172.18.25.63:39301</td>\n",
       "      <td>192.168.1.1:53</td>\n",
       "      <td>17</td>\n",
       "      <td>5.0</td>\n",
       "      <td>71</td>\n",
       "      <td>71</td>\n",
       "      <td>1</td>\n",
       "      <td>1</td>\n",
       "      <td>0</td>\n",
       "      <td>0</td>\n",
       "      <td>1</td>\n",
       "      <td>password</td>\n",
       "    </tr>\n",
       "    <tr>\n",
       "      <th>1378988</th>\n",
       "      <td>172.26.137.85:41737</td>\n",
       "      <td>192.168.1.1:53</td>\n",
       "      <td>17</td>\n",
       "      <td>5.0</td>\n",
       "      <td>67</td>\n",
       "      <td>67</td>\n",
       "      <td>1</td>\n",
       "      <td>1</td>\n",
       "      <td>0</td>\n",
       "      <td>1</td>\n",
       "      <td>1</td>\n",
       "      <td>password</td>\n",
       "    </tr>\n",
       "  </tbody>\n",
       "</table>\n",
       "<p>625196 rows × 12 columns</p>\n",
       "</div>"
      ],
      "text/plain": [
       "                IPV4_SRC_ADDR          IPV4_DST_ADDR  PROTOCOL  L7_PROTO  \\\n",
       "811722     172.17.112.93:8080    192.168.1.193:49249         6     131.0   \n",
       "783287    172.27.43.105:44838        192.33.14.30:53        17       5.0   \n",
       "795907   172.21.101.196:51517  239.255.255.250:15600        17       0.0   \n",
       "876724    172.25.78.224:55334       224.0.0.252:5355        17     154.0   \n",
       "793121   172.28.234.249:10230      192.203.230.10:53        17       5.0   \n",
       "...                       ...                    ...       ...       ...   \n",
       "1378908   172.23.170.51:55368       192.168.1.190:80         6       7.0   \n",
       "1378911  172.25.182.171:55370       192.168.1.190:80         6       7.0   \n",
       "1378914  172.23.152.112:55372       192.168.1.190:80         6       7.0   \n",
       "1378926    172.18.25.63:39301         192.168.1.1:53        17       5.0   \n",
       "1378988   172.26.137.85:41737         192.168.1.1:53        17       5.0   \n",
       "\n",
       "         IN_BYTES  OUT_BYTES  IN_PKTS  OUT_PKTS  TCP_FLAGS  \\\n",
       "811722        208        200        2         1         24   \n",
       "783287         70        791        1         1          0   \n",
       "795907        126          0        2         0          0   \n",
       "876724        122          0        2         0          0   \n",
       "793121         56       1125        1         1          0   \n",
       "...           ...        ...      ...       ...        ...   \n",
       "1378908       112         60        2         1         18   \n",
       "1378911       112         60        2         1         18   \n",
       "1378914       300        208        5         4         19   \n",
       "1378926        71         71        1         1          0   \n",
       "1378988        67         67        1         1          0   \n",
       "\n",
       "         FLOW_DURATION_MILLISECONDS  Label    Attack  \n",
       "811722                           59      0    Benign  \n",
       "783287                           14      0    Benign  \n",
       "795907                      3664929      0    Benign  \n",
       "876724                            0      0    Benign  \n",
       "793121                           19      0    Benign  \n",
       "...                             ...    ...       ...  \n",
       "1378908                           0      1  password  \n",
       "1378911                           0      1  password  \n",
       "1378914                       54351      1  password  \n",
       "1378926                           0      1  password  \n",
       "1378988                           1      1  password  \n",
       "\n",
       "[625196 rows x 12 columns]"
      ]
     },
     "execution_count": 11,
     "metadata": {},
     "output_type": "execute_result"
    }
   ],
   "source": [
    "data"
   ]
  },
  {
   "cell_type": "code",
   "execution_count": 12,
   "metadata": {
    "id": "C_WU15ngvnBM"
   },
   "outputs": [],
   "source": [
    "data.drop(columns=['Label'],inplace = True)"
   ]
  },
  {
   "cell_type": "code",
   "execution_count": 13,
   "metadata": {
    "id": "Q0d3nbdiv37j"
   },
   "outputs": [],
   "source": [
    "data.rename(columns={\"Attack\": \"label\"},inplace = True)"
   ]
  },
  {
   "cell_type": "code",
   "execution_count": 14,
   "metadata": {
    "id": "yjS-hTKDzI29"
   },
   "outputs": [],
   "source": [
    "le = LabelEncoder()\n",
    "le.fit_transform(data.label.values)\n",
    "data['label'] = le.transform(data['label'])"
   ]
  },
  {
   "cell_type": "code",
   "execution_count": 15,
   "metadata": {
    "id": "SVgjPVfg03XG"
   },
   "outputs": [],
   "source": [
    "label = data.label"
   ]
  },
  {
   "cell_type": "code",
   "execution_count": 16,
   "metadata": {
    "id": "ADl2Fj7H08Rr"
   },
   "outputs": [],
   "source": [
    "data.drop(columns=['label'],inplace = True)"
   ]
  },
  {
   "cell_type": "code",
   "execution_count": 17,
   "metadata": {
    "id": "qhsZMD3uwLk7"
   },
   "outputs": [],
   "source": [
    "scaler = StandardScaler()"
   ]
  },
  {
   "cell_type": "code",
   "execution_count": 18,
   "metadata": {
    "id": "aukoVdNf2zcp"
   },
   "outputs": [],
   "source": [
    "data =  pd.concat([data, label], axis=1)"
   ]
  },
  {
   "cell_type": "code",
   "execution_count": 19,
   "metadata": {
    "colab": {
     "base_uri": "https://localhost:8080/",
     "height": 439
    },
    "id": "IP-ZEZW4nxSm",
    "outputId": "75bb0453-8aa9-4b3f-cf05-9c158734627a"
   },
   "outputs": [
    {
     "data": {
      "text/html": [
       "<div>\n",
       "<style scoped>\n",
       "    .dataframe tbody tr th:only-of-type {\n",
       "        vertical-align: middle;\n",
       "    }\n",
       "\n",
       "    .dataframe tbody tr th {\n",
       "        vertical-align: top;\n",
       "    }\n",
       "\n",
       "    .dataframe thead th {\n",
       "        text-align: right;\n",
       "    }\n",
       "</style>\n",
       "<table border=\"1\" class=\"dataframe\">\n",
       "  <thead>\n",
       "    <tr style=\"text-align: right;\">\n",
       "      <th></th>\n",
       "      <th>IPV4_SRC_ADDR</th>\n",
       "      <th>IPV4_DST_ADDR</th>\n",
       "      <th>PROTOCOL</th>\n",
       "      <th>L7_PROTO</th>\n",
       "      <th>IN_BYTES</th>\n",
       "      <th>OUT_BYTES</th>\n",
       "      <th>IN_PKTS</th>\n",
       "      <th>OUT_PKTS</th>\n",
       "      <th>TCP_FLAGS</th>\n",
       "      <th>FLOW_DURATION_MILLISECONDS</th>\n",
       "      <th>label</th>\n",
       "    </tr>\n",
       "  </thead>\n",
       "  <tbody>\n",
       "    <tr>\n",
       "      <th>811722</th>\n",
       "      <td>172.17.112.93:8080</td>\n",
       "      <td>192.168.1.193:49249</td>\n",
       "      <td>6</td>\n",
       "      <td>131.0</td>\n",
       "      <td>208</td>\n",
       "      <td>200</td>\n",
       "      <td>2</td>\n",
       "      <td>1</td>\n",
       "      <td>24</td>\n",
       "      <td>59</td>\n",
       "      <td>0</td>\n",
       "    </tr>\n",
       "    <tr>\n",
       "      <th>783287</th>\n",
       "      <td>172.27.43.105:44838</td>\n",
       "      <td>192.33.14.30:53</td>\n",
       "      <td>17</td>\n",
       "      <td>5.0</td>\n",
       "      <td>70</td>\n",
       "      <td>791</td>\n",
       "      <td>1</td>\n",
       "      <td>1</td>\n",
       "      <td>0</td>\n",
       "      <td>14</td>\n",
       "      <td>0</td>\n",
       "    </tr>\n",
       "    <tr>\n",
       "      <th>795907</th>\n",
       "      <td>172.21.101.196:51517</td>\n",
       "      <td>239.255.255.250:15600</td>\n",
       "      <td>17</td>\n",
       "      <td>0.0</td>\n",
       "      <td>126</td>\n",
       "      <td>0</td>\n",
       "      <td>2</td>\n",
       "      <td>0</td>\n",
       "      <td>0</td>\n",
       "      <td>3664929</td>\n",
       "      <td>0</td>\n",
       "    </tr>\n",
       "    <tr>\n",
       "      <th>876724</th>\n",
       "      <td>172.25.78.224:55334</td>\n",
       "      <td>224.0.0.252:5355</td>\n",
       "      <td>17</td>\n",
       "      <td>154.0</td>\n",
       "      <td>122</td>\n",
       "      <td>0</td>\n",
       "      <td>2</td>\n",
       "      <td>0</td>\n",
       "      <td>0</td>\n",
       "      <td>0</td>\n",
       "      <td>0</td>\n",
       "    </tr>\n",
       "    <tr>\n",
       "      <th>793121</th>\n",
       "      <td>172.28.234.249:10230</td>\n",
       "      <td>192.203.230.10:53</td>\n",
       "      <td>17</td>\n",
       "      <td>5.0</td>\n",
       "      <td>56</td>\n",
       "      <td>1125</td>\n",
       "      <td>1</td>\n",
       "      <td>1</td>\n",
       "      <td>0</td>\n",
       "      <td>19</td>\n",
       "      <td>0</td>\n",
       "    </tr>\n",
       "    <tr>\n",
       "      <th>...</th>\n",
       "      <td>...</td>\n",
       "      <td>...</td>\n",
       "      <td>...</td>\n",
       "      <td>...</td>\n",
       "      <td>...</td>\n",
       "      <td>...</td>\n",
       "      <td>...</td>\n",
       "      <td>...</td>\n",
       "      <td>...</td>\n",
       "      <td>...</td>\n",
       "      <td>...</td>\n",
       "    </tr>\n",
       "    <tr>\n",
       "      <th>1378908</th>\n",
       "      <td>172.23.170.51:55368</td>\n",
       "      <td>192.168.1.190:80</td>\n",
       "      <td>6</td>\n",
       "      <td>7.0</td>\n",
       "      <td>112</td>\n",
       "      <td>60</td>\n",
       "      <td>2</td>\n",
       "      <td>1</td>\n",
       "      <td>18</td>\n",
       "      <td>0</td>\n",
       "      <td>3</td>\n",
       "    </tr>\n",
       "    <tr>\n",
       "      <th>1378911</th>\n",
       "      <td>172.25.182.171:55370</td>\n",
       "      <td>192.168.1.190:80</td>\n",
       "      <td>6</td>\n",
       "      <td>7.0</td>\n",
       "      <td>112</td>\n",
       "      <td>60</td>\n",
       "      <td>2</td>\n",
       "      <td>1</td>\n",
       "      <td>18</td>\n",
       "      <td>0</td>\n",
       "      <td>3</td>\n",
       "    </tr>\n",
       "    <tr>\n",
       "      <th>1378914</th>\n",
       "      <td>172.23.152.112:55372</td>\n",
       "      <td>192.168.1.190:80</td>\n",
       "      <td>6</td>\n",
       "      <td>7.0</td>\n",
       "      <td>300</td>\n",
       "      <td>208</td>\n",
       "      <td>5</td>\n",
       "      <td>4</td>\n",
       "      <td>19</td>\n",
       "      <td>54351</td>\n",
       "      <td>3</td>\n",
       "    </tr>\n",
       "    <tr>\n",
       "      <th>1378926</th>\n",
       "      <td>172.18.25.63:39301</td>\n",
       "      <td>192.168.1.1:53</td>\n",
       "      <td>17</td>\n",
       "      <td>5.0</td>\n",
       "      <td>71</td>\n",
       "      <td>71</td>\n",
       "      <td>1</td>\n",
       "      <td>1</td>\n",
       "      <td>0</td>\n",
       "      <td>0</td>\n",
       "      <td>3</td>\n",
       "    </tr>\n",
       "    <tr>\n",
       "      <th>1378988</th>\n",
       "      <td>172.26.137.85:41737</td>\n",
       "      <td>192.168.1.1:53</td>\n",
       "      <td>17</td>\n",
       "      <td>5.0</td>\n",
       "      <td>67</td>\n",
       "      <td>67</td>\n",
       "      <td>1</td>\n",
       "      <td>1</td>\n",
       "      <td>0</td>\n",
       "      <td>1</td>\n",
       "      <td>3</td>\n",
       "    </tr>\n",
       "  </tbody>\n",
       "</table>\n",
       "<p>625196 rows × 11 columns</p>\n",
       "</div>"
      ],
      "text/plain": [
       "                IPV4_SRC_ADDR          IPV4_DST_ADDR  PROTOCOL  L7_PROTO  \\\n",
       "811722     172.17.112.93:8080    192.168.1.193:49249         6     131.0   \n",
       "783287    172.27.43.105:44838        192.33.14.30:53        17       5.0   \n",
       "795907   172.21.101.196:51517  239.255.255.250:15600        17       0.0   \n",
       "876724    172.25.78.224:55334       224.0.0.252:5355        17     154.0   \n",
       "793121   172.28.234.249:10230      192.203.230.10:53        17       5.0   \n",
       "...                       ...                    ...       ...       ...   \n",
       "1378908   172.23.170.51:55368       192.168.1.190:80         6       7.0   \n",
       "1378911  172.25.182.171:55370       192.168.1.190:80         6       7.0   \n",
       "1378914  172.23.152.112:55372       192.168.1.190:80         6       7.0   \n",
       "1378926    172.18.25.63:39301         192.168.1.1:53        17       5.0   \n",
       "1378988   172.26.137.85:41737         192.168.1.1:53        17       5.0   \n",
       "\n",
       "         IN_BYTES  OUT_BYTES  IN_PKTS  OUT_PKTS  TCP_FLAGS  \\\n",
       "811722        208        200        2         1         24   \n",
       "783287         70        791        1         1          0   \n",
       "795907        126          0        2         0          0   \n",
       "876724        122          0        2         0          0   \n",
       "793121         56       1125        1         1          0   \n",
       "...           ...        ...      ...       ...        ...   \n",
       "1378908       112         60        2         1         18   \n",
       "1378911       112         60        2         1         18   \n",
       "1378914       300        208        5         4         19   \n",
       "1378926        71         71        1         1          0   \n",
       "1378988        67         67        1         1          0   \n",
       "\n",
       "         FLOW_DURATION_MILLISECONDS  label  \n",
       "811722                           59      0  \n",
       "783287                           14      0  \n",
       "795907                      3664929      0  \n",
       "876724                            0      0  \n",
       "793121                           19      0  \n",
       "...                             ...    ...  \n",
       "1378908                           0      3  \n",
       "1378911                           0      3  \n",
       "1378914                       54351      3  \n",
       "1378926                           0      3  \n",
       "1378988                           1      3  \n",
       "\n",
       "[625196 rows x 11 columns]"
      ]
     },
     "execution_count": 19,
     "metadata": {},
     "output_type": "execute_result"
    }
   ],
   "source": [
    "data"
   ]
  },
  {
   "cell_type": "code",
   "execution_count": 20,
   "metadata": {
    "id": "PUa4uJbewQc7"
   },
   "outputs": [],
   "source": [
    "X_train, X_test, y_train, y_test = train_test_split(\n",
    "     data, label, test_size=0.4, random_state=42,stratify= label)"
   ]
  },
  {
   "cell_type": "code",
   "execution_count": null,
   "metadata": {
    "colab": {
     "base_uri": "https://localhost:8080/"
    },
    "id": "z3DrIWDHqNxp",
    "outputId": "afdb1bda-42ae-4a6c-ed22-bd3eebf831bb",
    "scrolled": true
   },
   "outputs": [],
   "source": [
    "encoder = ce.TargetEncoder(cols=['TCP_FLAGS','L7_PROTO','PROTOCOL'])\n",
    "encoder.fit(X_train, y_train)\n",
    "X_train = encoder.transform(X_train)"
   ]
  },
  {
   "cell_type": "code",
   "execution_count": 22,
   "metadata": {
    "id": "EDKYHCbcqN81"
   },
   "outputs": [],
   "source": [
    "cols_to_norm = list(set(list(X_train.iloc[:, 2:].columns ))  - set(list(['label'])) )\n",
    "X_train[cols_to_norm] = scaler.fit_transform(X_train[cols_to_norm])"
   ]
  },
  {
   "cell_type": "code",
   "execution_count": 23,
   "metadata": {
    "id": "ek535MkWwUHN"
   },
   "outputs": [],
   "source": [
    "X_train['h'] = X_train[ cols_to_norm ].values.tolist()"
   ]
  },
  {
   "cell_type": "code",
   "execution_count": 24,
   "metadata": {
    "id": "OIrcNfMSwa0j"
   },
   "outputs": [],
   "source": [
    "G = nx.from_pandas_edgelist(X_train, \"IPV4_SRC_ADDR\", \"IPV4_DST_ADDR\", ['h','label'],create_using=nx.MultiGraph())"
   ]
  },
  {
   "cell_type": "code",
   "execution_count": 25,
   "metadata": {
    "id": "QluLSxbiwn7M"
   },
   "outputs": [],
   "source": [
    "G = G.to_directed()\n"
   ]
  },
  {
   "cell_type": "code",
   "execution_count": 26,
   "metadata": {
    "id": "2zClkKEzwrVb"
   },
   "outputs": [],
   "source": [
    "G = from_networkx(G,edge_attrs=['h','label'] )\n"
   ]
  },
  {
   "cell_type": "code",
   "execution_count": 27,
   "metadata": {
    "id": "9jlBYgE8wsW7"
   },
   "outputs": [],
   "source": [
    "# Eq1\n",
    "G.ndata['h'] = th.ones(G.num_nodes(), G.edata['h'].shape[1])"
   ]
  },
  {
   "cell_type": "code",
   "execution_count": 28,
   "metadata": {
    "id": "E7Vc6IELwuJr"
   },
   "outputs": [],
   "source": [
    "G.edata['train_mask'] = th.ones(len(G.edata['h']), dtype=th.bool)\n"
   ]
  },
  {
   "cell_type": "code",
   "execution_count": 29,
   "metadata": {},
   "outputs": [
    {
     "data": {
      "text/plain": [
       "Graph(num_nodes=402612, num_edges=750234,\n",
       "      ndata_schemes={'h': Scheme(shape=(8,), dtype=torch.float32)}\n",
       "      edata_schemes={'h': Scheme(shape=(8,), dtype=torch.float32), 'label': Scheme(shape=(), dtype=torch.int64), 'train_mask': Scheme(shape=(), dtype=torch.bool)})"
      ]
     },
     "execution_count": 29,
     "metadata": {},
     "output_type": "execute_result"
    }
   ],
   "source": [
    "G"
   ]
  },
  {
   "cell_type": "code",
   "execution_count": 30,
   "metadata": {
    "colab": {
     "base_uri": "https://localhost:8080/"
    },
    "id": "BIx7-W6s46Ju",
    "outputId": "67f2e7db-a13a-4e7e-be4b-1391149b7ddb"
   },
   "outputs": [
    {
     "data": {
      "text/plain": [
       "tensor([True, True, True,  ..., True, True, True])"
      ]
     },
     "execution_count": 30,
     "metadata": {},
     "output_type": "execute_result"
    }
   ],
   "source": [
    "G.edata['train_mask'] "
   ]
  },
  {
   "cell_type": "code",
   "execution_count": 31,
   "metadata": {
    "id": "DzDap1MR5e95"
   },
   "outputs": [],
   "source": [
    "def compute_accuracy(pred, labels):\n",
    "    return (pred.argmax(1) == labels).float().mean().item()"
   ]
  },
  {
   "cell_type": "code",
   "execution_count": 32,
   "metadata": {
    "id": "5VzTQxAR5HoT"
   },
   "outputs": [],
   "source": [
    "class SAGELayer(nn.Module):\n",
    "    def __init__(self, ndim_in, edims, ndim_out, activation):\n",
    "        super(SAGELayer, self).__init__()\n",
    "        ### force to outut fix dimensions\n",
    "        self.W_msg = nn.Linear(ndim_in + edims, ndim_out)\n",
    "        ### apply weight\n",
    "        self.W_apply = nn.Linear(ndim_in + ndim_out, ndim_out)\n",
    "        self.activation = activation\n",
    "\n",
    "    def message_func(self, edges):\n",
    "        return {'m': self.W_msg(th.cat([edges.src['h'], edges.data['h']], 2))}\n",
    "\n",
    "    def forward(self, g_dgl, nfeats, efeats):\n",
    "        with g_dgl.local_scope():\n",
    "            g = g_dgl\n",
    "            g.ndata['h'] = nfeats\n",
    "            g.edata['h'] = efeats\n",
    "            # Eq4\n",
    "            g.update_all(self.message_func, fn.mean('m', 'h_neigh'))\n",
    "            # Eq5          \n",
    "            g.ndata['h'] = F.relu(self.W_apply(th.cat([g.ndata['h'], g.ndata['h_neigh']], 2)))\n",
    "            return g.ndata['h']\n",
    "\n",
    "\n",
    "class SAGE(nn.Module):\n",
    "    def __init__(self, ndim_in, ndim_out, edim, activation, dropout):\n",
    "        super(SAGE, self).__init__()\n",
    "        self.layers = nn.ModuleList()\n",
    "        self.layers.append(SAGELayer(ndim_in, edim, 128, activation))\n",
    "        self.layers.append(SAGELayer(128, edim, ndim_out, activation))\n",
    "        self.dropout = nn.Dropout(p=dropout)\n",
    "\n",
    "    def forward(self, g, nfeats, efeats):\n",
    "        for i, layer in enumerate(self.layers):\n",
    "            if i != 0:\n",
    "                nfeats = self.dropout(nfeats)\n",
    "            nfeats = layer(g, nfeats, efeats)\n",
    "        return nfeats.sum(1)"
   ]
  },
  {
   "cell_type": "code",
   "execution_count": 33,
   "metadata": {
    "id": "hrLYvze5wwMi"
   },
   "outputs": [],
   "source": [
    "class MLPPredictor(nn.Module):\n",
    "    def __init__(self, in_features, out_classes):\n",
    "        super().__init__()\n",
    "        self.W = nn.Linear(in_features * 2, out_classes)\n",
    "\n",
    "    def apply_edges(self, edges):\n",
    "        h_u = edges.src['h']\n",
    "        h_v = edges.dst['h']\n",
    "        score = self.W(th.cat([h_u, h_v], 1))\n",
    "        return {'score': score}\n",
    "\n",
    "    def forward(self, graph, h):\n",
    "        with graph.local_scope():\n",
    "            graph.ndata['h'] = h\n",
    "            graph.apply_edges(self.apply_edges)\n",
    "            return graph.edata['score']"
   ]
  },
  {
   "cell_type": "code",
   "execution_count": 34,
   "metadata": {
    "id": "GPLg-kCcwxLa"
   },
   "outputs": [],
   "source": [
    "G.ndata['h'] = th.reshape(G.ndata['h'], (G.ndata['h'].shape[0], 1,G.ndata['h'].shape[1]))\n",
    "G.edata['h'] = th.reshape(G.edata['h'], (G.edata['h'].shape[0], 1,G.edata['h'].shape[1]))"
   ]
  },
  {
   "cell_type": "code",
   "execution_count": 35,
   "metadata": {},
   "outputs": [
    {
     "data": {
      "text/plain": [
       "tensor([[[1., 1., 1.,  ..., 1., 1., 1.]],\n",
       "\n",
       "        [[1., 1., 1.,  ..., 1., 1., 1.]],\n",
       "\n",
       "        [[1., 1., 1.,  ..., 1., 1., 1.]],\n",
       "\n",
       "        ...,\n",
       "\n",
       "        [[1., 1., 1.,  ..., 1., 1., 1.]],\n",
       "\n",
       "        [[1., 1., 1.,  ..., 1., 1., 1.]],\n",
       "\n",
       "        [[1., 1., 1.,  ..., 1., 1., 1.]]])"
      ]
     },
     "execution_count": 35,
     "metadata": {},
     "output_type": "execute_result"
    }
   ],
   "source": [
    "G.ndata['h']"
   ]
  },
  {
   "cell_type": "code",
   "execution_count": 36,
   "metadata": {
    "id": "SwdZs785w1dT"
   },
   "outputs": [],
   "source": [
    "class Model(nn.Module):\n",
    "    def __init__(self, ndim_in, ndim_out, edim, activation, dropout):\n",
    "        super().__init__()\n",
    "        self.gnn = SAGE(ndim_in, ndim_out, edim, activation, dropout)\n",
    "        self.pred = MLPPredictor(ndim_out, 4)\n",
    "    def forward(self, g_dgl, nfeats, efeats):\n",
    "        h = self.gnn(g_dgl, nfeats, efeats)\n",
    "        return self.pred(g_dgl, h)"
   ]
  },
  {
   "cell_type": "code",
   "execution_count": 37,
   "metadata": {
    "id": "9ah_CyoGrfrB"
   },
   "outputs": [],
   "source": [
    "from sklearn.utils import class_weight\n",
    "class_weights = [5.1032e+01, 4.2264e+00, 5.9438e+01,\n",
    "        8.8245e+01]"
   ]
  },
  {
   "cell_type": "code",
   "execution_count": 38,
   "metadata": {
    "id": "Cti0vAFYw3A0"
   },
   "outputs": [],
   "source": [
    "class_weights = th.FloatTensor(class_weights).cuda()\n",
    "criterion = nn.CrossEntropyLoss(weight = class_weights)"
   ]
  },
  {
   "cell_type": "code",
   "execution_count": 39,
   "metadata": {
    "colab": {
     "base_uri": "https://localhost:8080/"
    },
    "id": "Rj3DHIZmw4IM",
    "outputId": "673d51ff-8ed8-463c-8ab3-f6c7f4609ac0"
   },
   "outputs": [
    {
     "data": {
      "text/plain": [
       "device(type='cuda', index=0)"
      ]
     },
     "execution_count": 39,
     "metadata": {},
     "output_type": "execute_result"
    }
   ],
   "source": [
    "G = G.to('cuda:0')\n",
    "G.device"
   ]
  },
  {
   "cell_type": "code",
   "execution_count": 40,
   "metadata": {
    "colab": {
     "base_uri": "https://localhost:8080/"
    },
    "id": "qdlVG3JOw5Qj",
    "outputId": "5d9d3eb2-9d32-460f-c637-ae14314a5251"
   },
   "outputs": [
    {
     "data": {
      "text/plain": [
       "device(type='cuda', index=0)"
      ]
     },
     "execution_count": 40,
     "metadata": {},
     "output_type": "execute_result"
    }
   ],
   "source": [
    "G.ndata['h'].device\n"
   ]
  },
  {
   "cell_type": "code",
   "execution_count": 41,
   "metadata": {
    "colab": {
     "base_uri": "https://localhost:8080/"
    },
    "id": "dvt3pnXmw6U7",
    "outputId": "ee6c43aa-2ed7-4c8f-efb4-c30358d502c5"
   },
   "outputs": [
    {
     "data": {
      "text/plain": [
       "device(type='cuda', index=0)"
      ]
     },
     "execution_count": 41,
     "metadata": {},
     "output_type": "execute_result"
    }
   ],
   "source": [
    "G.edata['h'].device\n"
   ]
  },
  {
   "cell_type": "code",
   "execution_count": 42,
   "metadata": {},
   "outputs": [
    {
     "data": {
      "text/plain": [
       "8"
      ]
     },
     "execution_count": 42,
     "metadata": {},
     "output_type": "execute_result"
    }
   ],
   "source": [
    "G.ndata['h'].shape[2]"
   ]
  },
  {
   "cell_type": "code",
   "execution_count": 43,
   "metadata": {
    "colab": {
     "base_uri": "https://localhost:8080/"
    },
    "id": "-_eTiHzWw8Cz",
    "outputId": "bc03099b-51f8-4efd-f2dd-60fd3df9dcd5"
   },
   "outputs": [
    {
     "name": "stdout",
     "output_type": "stream",
     "text": [
      "Training acc: 0.5288403630256653\n",
      "Training acc: 0.6857886910438538\n",
      "Training acc: 0.6864244937896729\n",
      "Training acc: 0.708220362663269\n",
      "Training acc: 0.7167710065841675\n",
      "Training acc: 0.7280755043029785\n",
      "Training acc: 0.7172428965568542\n",
      "Training acc: 0.7274130582809448\n",
      "Training acc: 0.7477827072143555\n"
     ]
    }
   ],
   "source": [
    "node_features = G.ndata['h']\n",
    "edge_features = G.edata['h']\n",
    "\n",
    "edge_label = G.edata['label']\n",
    "train_mask = G.edata['train_mask']\n",
    "\n",
    "model = Model(G.ndata['h'].shape[2], 128, G.ndata['h'].shape[2], F.relu, 0.2).cuda()\n",
    "opt = th.optim.Adam(model.parameters())\n",
    "\n",
    "for epoch in range(1,1000):\n",
    "    pred = model(G, node_features, edge_features).cuda()\n",
    "    loss = criterion(pred[train_mask] ,edge_label[train_mask])\n",
    "    opt.zero_grad()\n",
    "    loss.backward()\n",
    "    opt.step()\n",
    "    if epoch % 100 == 0:\n",
    "      print('Training acc:', compute_accuracy(pred[train_mask], edge_label[train_mask]))\n"
   ]
  },
  {
   "cell_type": "code",
   "execution_count": 44,
   "metadata": {},
   "outputs": [
    {
     "data": {
      "text/plain": [
       "Model(\n",
       "  (gnn): SAGE(\n",
       "    (layers): ModuleList(\n",
       "      (0): SAGELayer(\n",
       "        (W_msg): Linear(in_features=16, out_features=128, bias=True)\n",
       "        (W_apply): Linear(in_features=136, out_features=128, bias=True)\n",
       "      )\n",
       "      (1): SAGELayer(\n",
       "        (W_msg): Linear(in_features=136, out_features=128, bias=True)\n",
       "        (W_apply): Linear(in_features=256, out_features=128, bias=True)\n",
       "      )\n",
       "    )\n",
       "    (dropout): Dropout(p=0.2, inplace=False)\n",
       "  )\n",
       "  (pred): MLPPredictor(\n",
       "    (W): Linear(in_features=256, out_features=4, bias=True)\n",
       "  )\n",
       ")"
      ]
     },
     "execution_count": 44,
     "metadata": {},
     "output_type": "execute_result"
    }
   ],
   "source": [
    "model"
   ]
  },
  {
   "cell_type": "code",
   "execution_count": null,
   "metadata": {
    "id": "p7gYo6lVtHCN"
   },
   "outputs": [],
   "source": [
    "X_test = encoder.transform(X_test)"
   ]
  },
  {
   "cell_type": "code",
   "execution_count": 46,
   "metadata": {
    "id": "OUGIEbMFtSnf"
   },
   "outputs": [],
   "source": [
    "X_test[cols_to_norm] = scaler.transform(X_test[cols_to_norm])"
   ]
  },
  {
   "cell_type": "code",
   "execution_count": 47,
   "metadata": {
    "colab": {
     "base_uri": "https://localhost:8080/",
     "height": 439
    },
    "id": "VlyqlEqjtb9s",
    "outputId": "2f198c30-f354-40f2-f908-c578e9692fbe"
   },
   "outputs": [
    {
     "data": {
      "text/html": [
       "<div>\n",
       "<style scoped>\n",
       "    .dataframe tbody tr th:only-of-type {\n",
       "        vertical-align: middle;\n",
       "    }\n",
       "\n",
       "    .dataframe tbody tr th {\n",
       "        vertical-align: top;\n",
       "    }\n",
       "\n",
       "    .dataframe thead th {\n",
       "        text-align: right;\n",
       "    }\n",
       "</style>\n",
       "<table border=\"1\" class=\"dataframe\">\n",
       "  <thead>\n",
       "    <tr style=\"text-align: right;\">\n",
       "      <th></th>\n",
       "      <th>IPV4_SRC_ADDR</th>\n",
       "      <th>IPV4_DST_ADDR</th>\n",
       "      <th>PROTOCOL</th>\n",
       "      <th>L7_PROTO</th>\n",
       "      <th>IN_BYTES</th>\n",
       "      <th>OUT_BYTES</th>\n",
       "      <th>IN_PKTS</th>\n",
       "      <th>OUT_PKTS</th>\n",
       "      <th>TCP_FLAGS</th>\n",
       "      <th>FLOW_DURATION_MILLISECONDS</th>\n",
       "      <th>label</th>\n",
       "    </tr>\n",
       "  </thead>\n",
       "  <tbody>\n",
       "    <tr>\n",
       "      <th>1123905</th>\n",
       "      <td>172.29.10.230:443</td>\n",
       "      <td>192.168.1.30:35334</td>\n",
       "      <td>0.307756</td>\n",
       "      <td>-1.081414</td>\n",
       "      <td>-0.008199</td>\n",
       "      <td>-0.018041</td>\n",
       "      <td>-0.006948</td>\n",
       "      <td>-0.010788</td>\n",
       "      <td>-1.869170</td>\n",
       "      <td>-0.058337</td>\n",
       "      <td>0</td>\n",
       "    </tr>\n",
       "    <tr>\n",
       "      <th>864356</th>\n",
       "      <td>172.27.126.206:61979</td>\n",
       "      <td>224.0.0.252:5355</td>\n",
       "      <td>-3.148565</td>\n",
       "      <td>-2.035004</td>\n",
       "      <td>-0.007939</td>\n",
       "      <td>-0.018041</td>\n",
       "      <td>-0.006707</td>\n",
       "      <td>-0.010788</td>\n",
       "      <td>-1.471064</td>\n",
       "      <td>-0.058337</td>\n",
       "      <td>0</td>\n",
       "    </tr>\n",
       "    <tr>\n",
       "      <th>652449</th>\n",
       "      <td>172.23.69.143:47154</td>\n",
       "      <td>192.168.1.184:443</td>\n",
       "      <td>0.307756</td>\n",
       "      <td>-1.081414</td>\n",
       "      <td>-0.004257</td>\n",
       "      <td>0.030348</td>\n",
       "      <td>-0.005019</td>\n",
       "      <td>0.000831</td>\n",
       "      <td>0.370005</td>\n",
       "      <td>-0.055968</td>\n",
       "      <td>2</td>\n",
       "    </tr>\n",
       "    <tr>\n",
       "      <th>1244683</th>\n",
       "      <td>172.19.143.134:35596</td>\n",
       "      <td>192.168.1.184:443</td>\n",
       "      <td>0.307756</td>\n",
       "      <td>-1.081414</td>\n",
       "      <td>-0.007976</td>\n",
       "      <td>-0.017659</td>\n",
       "      <td>-0.006707</td>\n",
       "      <td>-0.009732</td>\n",
       "      <td>-0.060039</td>\n",
       "      <td>-0.058337</td>\n",
       "      <td>1</td>\n",
       "    </tr>\n",
       "    <tr>\n",
       "      <th>1168810</th>\n",
       "      <td>172.28.167.23:80</td>\n",
       "      <td>192.168.1.30:59692</td>\n",
       "      <td>0.307756</td>\n",
       "      <td>0.778148</td>\n",
       "      <td>-0.007947</td>\n",
       "      <td>-0.017378</td>\n",
       "      <td>-0.006707</td>\n",
       "      <td>-0.008675</td>\n",
       "      <td>-0.060039</td>\n",
       "      <td>-0.011474</td>\n",
       "      <td>0</td>\n",
       "    </tr>\n",
       "    <tr>\n",
       "      <th>...</th>\n",
       "      <td>...</td>\n",
       "      <td>...</td>\n",
       "      <td>...</td>\n",
       "      <td>...</td>\n",
       "      <td>...</td>\n",
       "      <td>...</td>\n",
       "      <td>...</td>\n",
       "      <td>...</td>\n",
       "      <td>...</td>\n",
       "      <td>...</td>\n",
       "      <td>...</td>\n",
       "    </tr>\n",
       "    <tr>\n",
       "      <th>1018365</th>\n",
       "      <td>172.18.161.218:443</td>\n",
       "      <td>192.168.1.30:33292</td>\n",
       "      <td>0.307756</td>\n",
       "      <td>-1.081414</td>\n",
       "      <td>-0.008199</td>\n",
       "      <td>-0.017710</td>\n",
       "      <td>-0.006948</td>\n",
       "      <td>-0.009732</td>\n",
       "      <td>-1.869170</td>\n",
       "      <td>-0.058276</td>\n",
       "      <td>0</td>\n",
       "    </tr>\n",
       "    <tr>\n",
       "      <th>829803</th>\n",
       "      <td>172.29.229.206:56274</td>\n",
       "      <td>192.168.1.79:7678</td>\n",
       "      <td>0.307756</td>\n",
       "      <td>0.778148</td>\n",
       "      <td>-0.006615</td>\n",
       "      <td>-0.005053</td>\n",
       "      <td>-0.005501</td>\n",
       "      <td>-0.002338</td>\n",
       "      <td>0.900057</td>\n",
       "      <td>-0.058337</td>\n",
       "      <td>0</td>\n",
       "    </tr>\n",
       "    <tr>\n",
       "      <th>849405</th>\n",
       "      <td>172.26.236.74:8080</td>\n",
       "      <td>192.168.1.193:55985</td>\n",
       "      <td>0.307756</td>\n",
       "      <td>-2.035004</td>\n",
       "      <td>-0.007620</td>\n",
       "      <td>-0.016766</td>\n",
       "      <td>-0.006707</td>\n",
       "      <td>-0.009732</td>\n",
       "      <td>-1.764282</td>\n",
       "      <td>-0.057926</td>\n",
       "      <td>0</td>\n",
       "    </tr>\n",
       "    <tr>\n",
       "      <th>823886</th>\n",
       "      <td>172.18.177.93:8080</td>\n",
       "      <td>192.168.1.193:49377</td>\n",
       "      <td>0.307756</td>\n",
       "      <td>-2.035004</td>\n",
       "      <td>-0.007620</td>\n",
       "      <td>-0.016766</td>\n",
       "      <td>-0.006707</td>\n",
       "      <td>-0.009732</td>\n",
       "      <td>-1.764282</td>\n",
       "      <td>-0.057918</td>\n",
       "      <td>0</td>\n",
       "    </tr>\n",
       "    <tr>\n",
       "      <th>1103130</th>\n",
       "      <td>172.23.89.221:48300</td>\n",
       "      <td>192.168.1.184:443</td>\n",
       "      <td>0.307756</td>\n",
       "      <td>-1.081414</td>\n",
       "      <td>-0.007976</td>\n",
       "      <td>-0.017659</td>\n",
       "      <td>-0.006707</td>\n",
       "      <td>-0.009732</td>\n",
       "      <td>-0.060039</td>\n",
       "      <td>-0.058337</td>\n",
       "      <td>1</td>\n",
       "    </tr>\n",
       "  </tbody>\n",
       "</table>\n",
       "<p>250079 rows × 11 columns</p>\n",
       "</div>"
      ],
      "text/plain": [
       "                IPV4_SRC_ADDR        IPV4_DST_ADDR  PROTOCOL  L7_PROTO  \\\n",
       "1123905     172.29.10.230:443   192.168.1.30:35334  0.307756 -1.081414   \n",
       "864356   172.27.126.206:61979     224.0.0.252:5355 -3.148565 -2.035004   \n",
       "652449    172.23.69.143:47154    192.168.1.184:443  0.307756 -1.081414   \n",
       "1244683  172.19.143.134:35596    192.168.1.184:443  0.307756 -1.081414   \n",
       "1168810      172.28.167.23:80   192.168.1.30:59692  0.307756  0.778148   \n",
       "...                       ...                  ...       ...       ...   \n",
       "1018365    172.18.161.218:443   192.168.1.30:33292  0.307756 -1.081414   \n",
       "829803   172.29.229.206:56274    192.168.1.79:7678  0.307756  0.778148   \n",
       "849405     172.26.236.74:8080  192.168.1.193:55985  0.307756 -2.035004   \n",
       "823886     172.18.177.93:8080  192.168.1.193:49377  0.307756 -2.035004   \n",
       "1103130   172.23.89.221:48300    192.168.1.184:443  0.307756 -1.081414   \n",
       "\n",
       "         IN_BYTES  OUT_BYTES   IN_PKTS  OUT_PKTS  TCP_FLAGS  \\\n",
       "1123905 -0.008199  -0.018041 -0.006948 -0.010788  -1.869170   \n",
       "864356  -0.007939  -0.018041 -0.006707 -0.010788  -1.471064   \n",
       "652449  -0.004257   0.030348 -0.005019  0.000831   0.370005   \n",
       "1244683 -0.007976  -0.017659 -0.006707 -0.009732  -0.060039   \n",
       "1168810 -0.007947  -0.017378 -0.006707 -0.008675  -0.060039   \n",
       "...           ...        ...       ...       ...        ...   \n",
       "1018365 -0.008199  -0.017710 -0.006948 -0.009732  -1.869170   \n",
       "829803  -0.006615  -0.005053 -0.005501 -0.002338   0.900057   \n",
       "849405  -0.007620  -0.016766 -0.006707 -0.009732  -1.764282   \n",
       "823886  -0.007620  -0.016766 -0.006707 -0.009732  -1.764282   \n",
       "1103130 -0.007976  -0.017659 -0.006707 -0.009732  -0.060039   \n",
       "\n",
       "         FLOW_DURATION_MILLISECONDS  label  \n",
       "1123905                   -0.058337      0  \n",
       "864356                    -0.058337      0  \n",
       "652449                    -0.055968      2  \n",
       "1244683                   -0.058337      1  \n",
       "1168810                   -0.011474      0  \n",
       "...                             ...    ...  \n",
       "1018365                   -0.058276      0  \n",
       "829803                    -0.058337      0  \n",
       "849405                    -0.057926      0  \n",
       "823886                    -0.057918      0  \n",
       "1103130                   -0.058337      1  \n",
       "\n",
       "[250079 rows x 11 columns]"
      ]
     },
     "execution_count": 47,
     "metadata": {},
     "output_type": "execute_result"
    }
   ],
   "source": [
    "X_test"
   ]
  },
  {
   "cell_type": "code",
   "execution_count": 48,
   "metadata": {
    "id": "q5CMxVe5xIDb"
   },
   "outputs": [],
   "source": [
    "X_test['h'] = X_test[ cols_to_norm ].values.tolist()"
   ]
  },
  {
   "cell_type": "code",
   "execution_count": 49,
   "metadata": {
    "id": "VsAmtLAbxN_6"
   },
   "outputs": [],
   "source": [
    "G_test = nx.from_pandas_edgelist(X_test, \"IPV4_SRC_ADDR\", \"IPV4_DST_ADDR\", ['h','label'],create_using=nx.MultiGraph())\n",
    "G_test = G_test.to_directed()\n",
    "A_test = G_test.to_directed()\n",
    "G_test = from_networkx(G_test,edge_attrs=['h','label'] )\n",
    "actual = G_test.edata.pop('label')\n",
    "G_test.ndata['feature'] = th.ones(G_test.num_nodes(), G.ndata['h'].shape[2])"
   ]
  },
  {
   "cell_type": "code",
   "execution_count": 50,
   "metadata": {
    "id": "Eeux6JIxxQtC"
   },
   "outputs": [],
   "source": [
    "G_test.ndata['feature'] = th.reshape(G_test.ndata['feature'], (G_test.ndata['feature'].shape[0], 1, G_test.ndata['feature'].shape[1]))"
   ]
  },
  {
   "cell_type": "code",
   "execution_count": 51,
   "metadata": {
    "id": "PBETQI3YxYay"
   },
   "outputs": [],
   "source": [
    "G_test.edata['h'] = th.reshape(G_test.edata['h'], (G_test.edata['h'].shape[0], 1, G_test.edata['h'].shape[1]))\n"
   ]
  },
  {
   "cell_type": "code",
   "execution_count": 52,
   "metadata": {
    "id": "qlTOyVN6xZZB"
   },
   "outputs": [],
   "source": [
    "G_test = G_test.to('cuda:0')\n"
   ]
  },
  {
   "cell_type": "code",
   "execution_count": 53,
   "metadata": {
    "id": "QyugNIt9xac6"
   },
   "outputs": [],
   "source": [
    "import timeit\n",
    "start_time = timeit.default_timer()\n",
    "node_features_test = G_test.ndata['feature']\n",
    "edge_features_test = G_test.edata['h']\n",
    "test_pred = model(G_test, node_features_test, edge_features_test).cuda()\n",
    "elapsed = timeit.default_timer() - start_time"
   ]
  },
  {
   "cell_type": "code",
   "execution_count": null,
   "metadata": {
    "id": "0yu7IsTnlqK0"
   },
   "outputs": [],
   "source": []
  },
  {
   "cell_type": "code",
   "execution_count": 54,
   "metadata": {
    "colab": {
     "base_uri": "https://localhost:8080/"
    },
    "id": "KecCvilSxcFK",
    "outputId": "f768e819-21d5-4701-af7c-393e19f15d69"
   },
   "outputs": [
    {
     "name": "stdout",
     "output_type": "stream",
     "text": [
      "0.30458590000034746 seconds\n"
     ]
    }
   ],
   "source": [
    "print(str(elapsed) + ' seconds')\n"
   ]
  },
  {
   "cell_type": "code",
   "execution_count": 55,
   "metadata": {
    "id": "BNQLnLoAxdST"
   },
   "outputs": [],
   "source": [
    "test_pred = test_pred.argmax(1)\n"
   ]
  },
  {
   "cell_type": "code",
   "execution_count": 56,
   "metadata": {
    "id": "9dtggXXsxevx"
   },
   "outputs": [],
   "source": [
    "test_pred = th.Tensor.cpu(test_pred).detach().numpy()\n"
   ]
  },
  {
   "cell_type": "code",
   "execution_count": 57,
   "metadata": {
    "id": "5TGb_KWRxfzS"
   },
   "outputs": [],
   "source": [
    "actual = le.inverse_transform(actual)\n",
    "test_pred = le.inverse_transform(test_pred)"
   ]
  },
  {
   "cell_type": "code",
   "execution_count": 58,
   "metadata": {
    "id": "n7z7tHTPxhBC"
   },
   "outputs": [],
   "source": [
    "from sklearn.metrics import ConfusionMatrixDisplay\n"
   ]
  },
  {
   "cell_type": "code",
   "execution_count": 59,
   "metadata": {
    "id": "uMRairwzxiBC"
   },
   "outputs": [],
   "source": [
    "import numpy as np\n",
    "\n",
    "\n",
    "def plot_confusion_matrix(cm,\n",
    "                          target_names,\n",
    "                          title='Confusion matrix',\n",
    "                          cmap=None,\n",
    "                          normalize=True):\n",
    "    \n",
    "    import matplotlib.pyplot as plt\n",
    "    import numpy as np\n",
    "    import itertools\n",
    "\n",
    "    accuracy = np.trace(cm) / float(np.sum(cm))\n",
    "    misclass = 1 - accuracy\n",
    "\n",
    "    if cmap is None:\n",
    "        cmap = plt.get_cmap('Blues')\n",
    "\n",
    "    plt.figure(figsize=(12, 12))\n",
    "    plt.imshow(cm, interpolation='nearest', cmap=cmap)\n",
    "    plt.title(title)\n",
    "    plt.colorbar()\n",
    "\n",
    "    if target_names is not None:\n",
    "        tick_marks = np.arange(len(target_names))\n",
    "        plt.xticks(tick_marks, target_names, rotation=45)\n",
    "        plt.yticks(tick_marks, target_names)\n",
    "\n",
    "    if normalize:\n",
    "        cm = cm.astype('float') / cm.sum(axis=1)[:, np.newaxis]\n",
    "\n",
    "\n",
    "    thresh = cm.max() / 1.5 if normalize else cm.max() / 2\n",
    "    for i, j in itertools.product(range(cm.shape[0]), range(cm.shape[1])):\n",
    "        if normalize:\n",
    "            plt.text(j, i, \"{:0.4f}\".format(cm[i, j]),\n",
    "                     horizontalalignment=\"center\",\n",
    "                     color=\"white\" if cm[i, j] > thresh else \"black\")\n",
    "        else:\n",
    "            plt.text(j, i, \"{:,}\".format(cm[i, j]),\n",
    "                     horizontalalignment=\"center\",\n",
    "                     color=\"white\" if cm[i, j] > thresh else \"black\")\n",
    "\n",
    "\n",
    "    plt.tight_layout()\n",
    "    plt.ylabel('True label')\n",
    "    plt.xlabel('Predicted label\\naccuracy={:0.4f}; misclass={:0.4f}'.format(accuracy, misclass))\n",
    "    plt.show()"
   ]
  },
  {
   "cell_type": "code",
   "execution_count": 60,
   "metadata": {
    "colab": {
     "base_uri": "https://localhost:8080/",
     "height": 709
    },
    "id": "KNCkVWyqxjaR",
    "outputId": "48f77bad-b02a-468b-d2c5-dbb5385dddff"
   },
   "outputs": [
    {
     "data": {
      "image/png": "[encoded data removed]",
      "text/plain": [
       "<Figure size 1200x1200 with 2 Axes>"
      ]
     },
     "metadata": {},
     "output_type": "display_data"
    }
   ],
   "source": [
    "from sklearn.metrics import confusion_matrix\n",
    "\n",
    "plot_confusion_matrix(cm = confusion_matrix(actual, test_pred), \n",
    "                      normalize    = False,\n",
    "                      target_names = np.unique(actual),\n",
    "                      title        = \"Confusion Matrix\")"
   ]
  },
  {
   "cell_type": "code",
   "execution_count": null,
   "metadata": {},
   "outputs": [],
   "source": []
  },
  {
   "cell_type": "code",
   "execution_count": null,
   "metadata": {},
   "outputs": [],
   "source": [
    "#GNNEx\n",
    "\n",
    "import torch_geometric.data as pyg\n",
    "\n",
    "# Assuming G_test is your DGL graph\n",
    "edges = G.edges()\n",
    "\n",
    "# Convert node features from DGL to PyG format\n",
    "node_features = th.tensor(G.ndata['h'])\n",
    "\n",
    "# Convert edge features from DGL to PyG format\n",
    "edge_features = th.tensor(G.edata['h'])\n",
    "\n",
    "# Get edge indices from DGL graph\n",
    "# Concatenate source and destination tensors along dim=0\n",
    "edge_index = th.stack([edges[0], edges[1]], dim=0)\n",
    "\n",
    "print(\"Edge index before transpose:\")\n",
    "print(edge_index)\n",
    "\n",
    "# Transpose the edge index tensor\n",
    "edge_index = edge_index.long().contiguous()\n",
    "edge_index = edge_index.view(2, -1)\n",
    "\n",
    "print(\"\\nEdge index after transpose:\")\n",
    "print(edge_index)\n",
    "\n",
    "# Create PyG Data object\n",
    "pyg_graph = pyg.Data(\n",
    "    x=node_features,  # Node features\n",
    "    edge_index=edge_index,  # Edge indices\n",
    "    efeats=edge_features  # Edge features\n",
    ")\n",
    "\n",
    "# Print PyG graph information\n",
    "print(pyg_graph)"
   ]
  },
  {
   "cell_type": "code",
   "execution_count": 62,
   "metadata": {},
   "outputs": [
    {
     "data": {
      "text/plain": [
       "tensor([374531, 132675, 117334,  ..., 399977, 245336, 374582], device='cuda:0')"
      ]
     },
     "execution_count": 62,
     "metadata": {},
     "output_type": "execute_result"
    }
   ],
   "source": [
    "edges[1]"
   ]
  },
  {
   "cell_type": "code",
   "execution_count": 63,
   "metadata": {
    "scrolled": true
   },
   "outputs": [],
   "source": [
    "homoG = dgl.to_homogeneous(G)\n",
    "netX = dgl.to_networkx(homoG.cpu())"
   ]
  },
  {
   "cell_type": "code",
   "execution_count": 64,
   "metadata": {},
   "outputs": [],
   "source": [
    "dataX = torch_geometric.utils.from_networkx(netX)"
   ]
  },
  {
   "cell_type": "code",
   "execution_count": 65,
   "metadata": {},
   "outputs": [
    {
     "data": {
      "text/plain": [
       "Graph(num_nodes=402612, num_edges=750234,\n",
       "      ndata_schemes={'h': Scheme(shape=(1, 8), dtype=torch.float32)}\n",
       "      edata_schemes={'h': Scheme(shape=(1, 8), dtype=torch.float32), 'label': Scheme(shape=(), dtype=torch.int64), 'train_mask': Scheme(shape=(), dtype=torch.bool)})"
      ]
     },
     "execution_count": 65,
     "metadata": {},
     "output_type": "execute_result"
    }
   ],
   "source": [
    "G"
   ]
  },
  {
   "cell_type": "code",
   "execution_count": 66,
   "metadata": {},
   "outputs": [],
   "source": [
    "model = Model(G.ndata['h'].shape[2], 128, G.ndata['h'].shape[2], F.relu, 0.2).cuda()"
   ]
  },
  {
   "cell_type": "code",
   "execution_count": null,
   "metadata": {
    "id": "KZwPghTY57p1"
   },
   "outputs": [],
   "source": [
    "from torch_geometric.data import HeteroData\n",
    "from torch_geometric.explain import Explainer, CaptumExplainer, GNNExplainer\n",
    "\n",
    "explainer = Explainer(\n",
    "    model=model,\n",
    "    algorithm=GNNExplainer(epochs=200),\n",
    "    explanation_type='model',\n",
    "    node_mask_type='attributes',\n",
    "    edge_mask_type='object',\n",
    "    model_config=dict(\n",
    "        mode='multiclass_classification',\n",
    "        task_level='node',\n",
    "        return_type='probs',\n",
    "    ),\n",
    ")\n",
    "\n",
    "# Generate explanation for the node at index `10`:\n",
    "explanation = explainer(pyg_graph.x, pyg_graph.edge_index, efeats=pyg_graph.efeats, index=10)\n",
    "print(explanation.edge_mask)\n",
    "print(explanation.node_mask)"
   ]
  },
  {
   "cell_type": "code",
   "execution_count": 138,
   "metadata": {},
   "outputs": [
    {
     "data": {
      "text/plain": [
       "tensor([[[1., 1., 1.,  ..., 1., 1., 1.]],\n",
       "\n",
       "        [[1., 1., 1.,  ..., 1., 1., 1.]],\n",
       "\n",
       "        [[1., 1., 1.,  ..., 1., 1., 1.]],\n",
       "\n",
       "        ...,\n",
       "\n",
       "        [[1., 1., 1.,  ..., 1., 1., 1.]],\n",
       "\n",
       "        [[1., 1., 1.,  ..., 1., 1., 1.]],\n",
       "\n",
       "        [[1., 1., 1.,  ..., 1., 1., 1.]]], device='cuda:0')"
      ]
     },
     "execution_count": 138,
     "metadata": {},
     "output_type": "execute_result"
    }
   ],
   "source": [
    "pyg_graph.x"
   ]
  },
  {
   "cell_type": "code",
   "execution_count": 139,
   "metadata": {},
   "outputs": [
    {
     "data": {
      "text/plain": [
       "Model(\n",
       "  (gnn): SAGE(\n",
       "    (layers): ModuleList(\n",
       "      (0): SAGELayer(\n",
       "        (W_msg): Linear(in_features=16, out_features=128, bias=True)\n",
       "        (W_apply): Linear(in_features=136, out_features=128, bias=True)\n",
       "      )\n",
       "      (1): SAGELayer(\n",
       "        (W_msg): Linear(in_features=136, out_features=128, bias=True)\n",
       "        (W_apply): Linear(in_features=256, out_features=128, bias=True)\n",
       "      )\n",
       "    )\n",
       "    (dropout): Dropout(p=0.2, inplace=False)\n",
       "  )\n",
       "  (pred): MLPPredictor(\n",
       "    (W): Linear(in_features=256, out_features=10, bias=True)\n",
       "  )\n",
       ")"
      ]
     },
     "execution_count": 139,
     "metadata": {},
     "output_type": "execute_result"
    }
   ],
   "source": [
    "model"
   ]
  },
  {
   "cell_type": "code",
   "execution_count": 140,
   "metadata": {},
   "outputs": [
    {
     "name": "stdout",
     "output_type": "stream",
     "text": [
      "SAGE(\n",
      "  (layers): ModuleList(\n",
      "    (0): SAGELayer(\n",
      "      (W_msg): Linear(in_features=16, out_features=128, bias=True)\n",
      "      (W_apply): Linear(in_features=136, out_features=128, bias=True)\n",
      "    )\n",
      "    (1): SAGELayer(\n",
      "      (W_msg): Linear(in_features=136, out_features=128, bias=True)\n",
      "      (W_apply): Linear(in_features=256, out_features=128, bias=True)\n",
      "    )\n",
      "  )\n",
      "  (dropout): Dropout(p=0.2, inplace=False)\n",
      ")\n"
     ]
    }
   ],
   "source": [
    "print(model.gnn)"
   ]
  },
  {
   "cell_type": "code",
   "execution_count": 141,
   "metadata": {},
   "outputs": [
    {
     "ename": "NameError",
     "evalue": "name 'nfeats' is not defined",
     "output_type": "error",
     "traceback": [
      "\u001b[1;31m---------------------------------------------------------------------------\u001b[0m",
      "\u001b[1;31mNameError\u001b[0m                                 Traceback (most recent call last)",
      "Cell \u001b[1;32mIn[141], line 1\u001b[0m\n\u001b[1;32m----> 1\u001b[0m model\u001b[38;5;241m.\u001b[39mgnn(G_test, nfeats, efeats)\n",
      "\u001b[1;31mNameError\u001b[0m: name 'nfeats' is not defined"
     ]
    }
   ],
   "source": [
    "model.gnn(G_test, nfeats, efeats)"
   ]
  },
  {
   "cell_type": "code",
   "execution_count": null,
   "metadata": {},
   "outputs": [],
   "source": [
    "dataX"
   ]
  },
  {
   "cell_type": "code",
   "execution_count": null,
   "metadata": {},
   "outputs": [],
   "source": [
    "pyg_graph"
   ]
  },
  {
   "cell_type": "code",
   "execution_count": null,
   "metadata": {},
   "outputs": [],
   "source": [
    "G_test.edata['h'].size()"
   ]
  },
  {
   "cell_type": "code",
   "execution_count": null,
   "metadata": {},
   "outputs": [],
   "source": [
    "netX"
   ]
  },
  {
   "cell_type": "code",
   "execution_count": null,
   "metadata": {},
   "outputs": [],
   "source": [
    "G"
   ]
  },
  {
   "cell_type": "code",
   "execution_count": null,
   "metadata": {},
   "outputs": [],
   "source": [
    "g_dgl"
   ]
  },
  {
   "cell_type": "code",
   "execution_count": null,
   "metadata": {},
   "outputs": [],
   "source": [
    "from torch_geometric.data import HeteroData\n",
    "from torch_geometric.explain import Explainer, CaptumExplainer\n",
    "\n",
    "hetero_data = HeteroData(pyg_graph)  # A heterogeneous graph data object.\n",
    "\n",
    "explainer = Explainer(\n",
    "    model(G, node_features, edge_features).cuda(),  # It is assumed that model outputs a single tensor.\n",
    "    algorithm=CaptumExplainer('IntegratedGradients'),\n",
    "    explanation_type='model',\n",
    "    node_mask_type='attributes',\n",
    "    edge_mask_type='object',\n",
    "    model_config = dict(\n",
    "        mode='multiclass_classification',\n",
    "        task_level='node',\n",
    "        return_type='probs',  # Model returns probabilities.\n",
    "    ),\n",
    ")\n",
    "\n",
    "# Generate batch-wise heterogeneous explanations for\n",
    "# the nodes at index `1` and `3`:\n",
    "hetero_explanation = explainer(\n",
    "    hetero_data.x_dict,\n",
    "    hetero_data.edge_index_dict,\n",
    "    index=torch.tensor([10, 15]),\n",
    ")\n",
    "print(hetero_explanation.edge_mask_dict)\n",
    "print(hetero_explanation.node_mask_dict)"
   ]
  },
  {
   "cell_type": "code",
   "execution_count": null,
   "metadata": {},
   "outputs": [],
   "source": [
    "dataX"
   ]
  },
  {
   "cell_type": "code",
   "execution_count": null,
   "metadata": {},
   "outputs": [],
   "source": [
    "hetero_data"
   ]
  },
  {
   "cell_type": "code",
   "execution_count": null,
   "metadata": {},
   "outputs": [],
   "source": [
    "homoG"
   ]
  },
  {
   "cell_type": "code",
   "execution_count": null,
   "metadata": {},
   "outputs": [],
   "source": [
    "dataX"
   ]
  },
  {
   "cell_type": "code",
   "execution_count": null,
   "metadata": {},
   "outputs": [],
   "source": [
    "G_test"
   ]
  },
  {
   "cell_type": "code",
   "execution_count": null,
   "metadata": {},
   "outputs": [],
   "source": [
    "G_test.ndata['feature']"
   ]
  },
  {
   "cell_type": "code",
   "execution_count": null,
   "metadata": {},
   "outputs": [],
   "source": [
    "G"
   ]
  },
  {
   "cell_type": "code",
   "execution_count": 159,
   "metadata": {},
   "outputs": [
    {
     "name": "stdout",
     "output_type": "stream",
     "text": [
      "Graph(num_nodes=439803, num_edges=827564,\n",
      "      ndata_schemes={'h': Scheme(shape=(1, 8), dtype=torch.float32)}\n",
      "      edata_schemes={'h': Scheme(shape=(1, 8), dtype=torch.float32), 'label': Scheme(shape=(), dtype=torch.int64), 'train_mask': Scheme(shape=(), dtype=torch.bool)})\n",
      "Graph(num_nodes=439803, num_edges=827564,\n",
      "      ndata_schemes={'h': Scheme(shape=(1, 8), dtype=torch.float32)}\n",
      "      edata_schemes={'h': Scheme(shape=(1, 8), dtype=torch.float32), 'label': Scheme(shape=(), dtype=torch.int64), 'train_mask': Scheme(shape=(), dtype=torch.bool)})\n",
      "tensor([[[1., 1., 1.,  ..., 1., 1., 1.]],\n",
      "\n",
      "        [[1., 1., 1.,  ..., 1., 1., 1.]],\n",
      "\n",
      "        [[1., 1., 1.,  ..., 1., 1., 1.]],\n",
      "\n",
      "        ...,\n",
      "\n",
      "        [[1., 1., 1.,  ..., 1., 1., 1.]],\n",
      "\n",
      "        [[1., 1., 1.,  ..., 1., 1., 1.]],\n",
      "\n",
      "        [[1., 1., 1.,  ..., 1., 1., 1.]]], device='cuda:0')\n",
      "tensor([[[ 0.7517, -1.9390, -0.0565,  ...,  0.3128, -0.0121, -0.0062]],\n",
      "\n",
      "        [[ 0.7517, -1.9390, -0.0565,  ...,  0.3128, -0.0121, -0.0062]],\n",
      "\n",
      "        [[ 0.7517, -0.3860, -0.0565,  ...,  0.3128, -0.0110, -0.0075]],\n",
      "\n",
      "        ...,\n",
      "\n",
      "        [[ 0.7517,  0.8830, -0.0517,  ...,  0.3128, -0.0099, -0.0073]],\n",
      "\n",
      "        [[ 0.7517,  0.8957, -0.0565,  ...,  0.3128, -0.0056, -0.0063]],\n",
      "\n",
      "        [[ 0.7517,  0.8830,  0.1268,  ...,  0.3128, -0.0099, -0.0075]]],\n",
      "       device='cuda:0')\n",
      "Graph(num_nodes=439803, num_edges=827564,\n",
      "      ndata_schemes={'h': Scheme(shape=(1, 8), dtype=torch.float32)}\n",
      "      edata_schemes={'h': Scheme(shape=(1, 8), dtype=torch.float32), 'label': Scheme(shape=(), dtype=torch.int64), 'train_mask': Scheme(shape=(), dtype=torch.bool)})\n",
      "Graph(num_nodes=439803, num_edges=827564,\n",
      "      ndata_schemes={'h': Scheme(shape=(1, 8), dtype=torch.float32)}\n",
      "      edata_schemes={'h': Scheme(shape=(1, 8), dtype=torch.float32), 'label': Scheme(shape=(), dtype=torch.int64), 'train_mask': Scheme(shape=(), dtype=torch.bool)})\n",
      "tensor([[[0.0000, 0.0000, 0.9730,  ..., 0.7913, 0.0000, 0.0000]],\n",
      "\n",
      "        [[0.0960, 0.0000, 0.0000,  ..., 0.0000, 0.0000, 0.0000]],\n",
      "\n",
      "        [[0.0000, 0.0000, 0.1310,  ..., 0.0000, 0.0000, 0.0000]],\n",
      "\n",
      "        ...,\n",
      "\n",
      "        [[0.7478, 0.0000, 0.2163,  ..., 0.0000, 0.0000, 0.0000]],\n",
      "\n",
      "        [[0.2172, 0.0000, 0.3621,  ..., 0.0062, 0.1487, 0.0000]],\n",
      "\n",
      "        [[0.2171, 0.0000, 0.0000,  ..., 0.0061, 0.1484, 0.0000]]],\n",
      "       device='cuda:0', grad_fn=<NativeDropoutBackward0>)\n",
      "tensor([[[ 0.7517, -1.9390, -0.0565,  ...,  0.3128, -0.0121, -0.0062]],\n",
      "\n",
      "        [[ 0.7517, -1.9390, -0.0565,  ...,  0.3128, -0.0121, -0.0062]],\n",
      "\n",
      "        [[ 0.7517, -0.3860, -0.0565,  ...,  0.3128, -0.0110, -0.0075]],\n",
      "\n",
      "        ...,\n",
      "\n",
      "        [[ 0.7517,  0.8830, -0.0517,  ...,  0.3128, -0.0099, -0.0073]],\n",
      "\n",
      "        [[ 0.7517,  0.8957, -0.0565,  ...,  0.3128, -0.0056, -0.0063]],\n",
      "\n",
      "        [[ 0.7517,  0.8830,  0.1268,  ...,  0.3128, -0.0099, -0.0075]]],\n",
      "       device='cuda:0')\n"
     ]
    },
    {
     "data": {
      "text/plain": [
       "tensor([[ 0.0328, -0.0500,  0.0222,  ...,  0.0578, -0.0310, -0.0816],\n",
       "        [ 0.0211,  0.0176,  0.0318,  ...,  0.0257, -0.0167, -0.0831],\n",
       "        [ 0.0368,  0.0172,  0.0359,  ...,  0.0440, -0.0581, -0.0589],\n",
       "        ...,\n",
       "        [ 0.0950, -0.0137,  0.1075,  ...,  0.0329, -0.0499, -0.0844],\n",
       "        [ 0.0369,  0.0074,  0.0822,  ...,  0.0663, -0.0032, -0.0710],\n",
       "        [ 0.0695, -0.0048,  0.1058,  ...,  0.0345, -0.0335, -0.0596]],\n",
       "       device='cuda:0', grad_fn=<AddmmBackward0>)"
      ]
     },
     "execution_count": 159,
     "metadata": {},
     "output_type": "execute_result"
    }
   ],
   "source": [
    "model(G, nfeats=pyg_graph.x, efeats=pyg_graph.efeats)"
   ]
  },
  {
   "cell_type": "code",
   "execution_count": null,
   "metadata": {},
   "outputs": [],
   "source": []
  }
 ],
 "metadata": {
  "accelerator": "GPU",
  "colab": {
   "collapsed_sections": [],
   "machine_shape": "hm",
   "name": "Unsw_ton_iot_multiclass_mean_agg.ipynb",
   "provenance": []
  },
  "kernelspec": {
   "display_name": "Python 3 (ipykernel)",
   "language": "python",
   "name": "python3"
  },
  "language_info": {
   "codemirror_mode": {
    "name": "ipython",
    "version": 3
   },
   "file_extension": ".py",
   "mimetype": "text/x-python",
   "name": "python",
   "nbconvert_exporter": "python",
   "pygments_lexer": "ipython3",
   "version": "3.9.13"
  }
 },
 "nbformat": 4,
 "nbformat_minor": 4
}
